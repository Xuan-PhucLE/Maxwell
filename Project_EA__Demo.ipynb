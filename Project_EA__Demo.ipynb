{
  "nbformat": 4,
  "nbformat_minor": 0,
  "metadata": {
    "colab": {
      "name": "Project EA_ Demo",
      "provenance": [],
      "collapsed_sections": []
    },
    "kernelspec": {
      "name": "python3",
      "display_name": "Python 3"
    }
  },
  "cells": [
    {
      "cell_type": "code",
      "metadata": {
        "id": "B8n3VAsFwlke"
      },
      "source": [
        "import matplotlib.pyplot as plt\n",
        "import matplotlib.animation as animation\n",
        "import numpy as np\n",
        "import numpy.random as rnd\n",
        "from scipy import optimize\n",
        "import scipy\n",
        "import random\n",
        "import math"
      ],
      "execution_count": 3,
      "outputs": []
    },
    {
      "cell_type": "code",
      "metadata": {
        "id": "BkeQReX-xLJA"
      },
      "source": [
        "# Constants \n",
        "\n",
        "pi = np.pi\n",
        "c = 3*10**8\n",
        "e = 1.6*10**(-19)\n",
        "me = 9.1*10**(-31)\n",
        "E_0 = 1\n",
        "w_0 = 100\n",
        "t_pulse = 10**(-9)\n",
        "omega_at = 1\n",
        "Z = 18 #Arg\n",
        "pi = np.pi\n",
        "E_at = 1\n"
      ],
      "execution_count": 5,
      "outputs": []
    },
    {
      "cell_type": "code",
      "metadata": {
        "id": "hkJONFDVuLOi"
      },
      "source": [
        ""
      ],
      "execution_count": 5,
      "outputs": []
    },
    {
      "cell_type": "code",
      "metadata": {
        "id": "7JClQUE2s7LC"
      },
      "source": [
        "\n",
        "class Maxwell:\n",
        "    \n",
        "    \"\"\"Solves maxwell equations with interaction with the plasma\"\"\"\n",
        "    \n",
        "    def __init__(self, L, N_l, T, EI, l, m, E0, omega0, t_pulse) :\n",
        "        self.L = L            #interation length\n",
        "        self.T = T          #time of the simulation\n",
        "        self.N_l = N_l        #number of spatial steps\n",
        "        self.dx = L/N_l           #spatial step\n",
        "        self.dt = c*self.dx       #time step\n",
        "        N_t = int(T/self.dt)        #number of time steps\n",
        "        self.N_t = N_t\n",
        "        self.Eright = np.zeros((N_l, N_t))    #transmitted field\n",
        "        self.Eleft = np.zeros((N_l, N_t))        #reflected field\n",
        "        self.J = np.zeros((N_l, N_t))       #transverse current\n",
        "        self.N0 = np.zeros((N_l, N_t))\n",
        "        self.N1 = np.zeros((N_l, N_t))\n",
        "        self.EI = EI              #array of ionization potentials\n",
        "        self.l = l             #array of azimutal quantum numbers\n",
        "        self.m = m              #array of magnetic quantum numbers\n",
        "        self.E0 = E0            #amplitude of initial pulse\n",
        "        self.omega0 = omega0          #pulsation of initial pulse\n",
        "        self.t_pulse = t_pulse            #duration of initial pulse\n",
        "        \n",
        "\n",
        "    def pulse(self, t):\n",
        "        '''Returns the boundary condition of the transmitted field which is the initial pulse'''\n",
        "        return self.E0 * np.sin(self.omega0 * t) * np.exp(-(t/self.t_pulse)**2)\n",
        "    \n",
        "    def step(self, nt):\n",
        "        self.population(nt)\n",
        "        self.current(nt)\n",
        "        self.electrical(nt)\n",
        "    \n",
        "    def electrical(self, n_t):\n",
        "        '''Returns Eleft and Eright at time n_t+1'''\n",
        "        dt = self.dt\n",
        "        N_l = self.N_l\n",
        "        self.Eright[0, n_t+1] = self.pulse((n_t+1)*dt)\n",
        "        self.Eleft[N_l-1, n_t+1] = 0\n",
        "        for n_l in range(N_l-1):\n",
        "            J = self.J[n_l, n_t+1] + self.J[n_l+1, n_t+1]\n",
        "            self.Eright[n_l+1, n_t+1] = self.Eright[n_l, n_t] - np.pi * dt * J\n",
        "            self.Eleft[n_l, n_t+1] = self.Eleft[n_l+1, n_t] - np.pi * dt * J\n",
        "            \n",
        "    def current(self, n_t):\n",
        "        '''Return the current at time dt(n_t+1/2)'''\n",
        "        dt = self.dt\n",
        "        N_l = self.N_l\n",
        "        alpha = e**2 * dt/m\n",
        "        for n_l in range(N_l):\n",
        "            E = self.Eleft[n_l, n_t] + self.Eright[n_l, n_t]\n",
        "            ne = self.N1[n_l, n_t]\n",
        "            self.J[n_l, n_t+1] = self.J[n_l, n_t] + alpha * ne * E \n",
        "    \n",
        "    def rate(self, k, n_l, n_t):\n",
        "        '''Calculates the ionization rate for the level k at time dt*(n_t+1) and position dx*n_l'''\n",
        "        E = self.Eleft[n_l, n_t] + self.Eright[n_l, n_t]\n",
        "        lk = self.l[k]       # azimutal quantum number of level k\n",
        "        mk = self.m[k]       # magnetic quantum number of level k\n",
        "        mk = np.abs(mk)\n",
        "\n",
        "        epsilon_k = self.EI[k]   \n",
        "        fact = (2*lk+1)*math.factorial(lk+mk)/(2**(mk)*math.factorial(mk)*math.factorial(lk-mk))\n",
        "        n_star = (epsilon_h/epsilon_k)**0.5*Z\n",
        "        C_nstar = (2*np.ex/n_star)**n_star*(2*pi*n_star)**(-0.5)\n",
        "\n",
        "        R_st = omega_at*C_nstar**2*epsilon_i/epsilon_h*fact*(2*(epsilon_k/epsilon_h)**1.5*E_at/E)**(2*n_star-m-1)\n",
        "        R_st = R_st*np.exp(-2/3*(epsilon_k/epsilon_h)**1.5*E_at/E)\n",
        "\n",
        "        return R_st\n",
        "\n",
        "    def population(self, n_t):\n",
        "        '''Calculate the populations density at time dt*(n_t+1)'''\n",
        "        for n_l in range(N_l):\n",
        "            R0 = self.rate(0, n_l, n_t) \n",
        "            R1 = self.rate(1, n_l, n_t)\n",
        "            self.N0[nl, n_t+1] = (1 - R0*self.dt)*self.N0[nl, n_t]\n",
        "            self.N1[nl, n_t+1] = (1 - R1*self.dt)*self.N1[nl, n_t] + R0*self.dt*self.N0[nl, n_t]\n"
      ],
      "execution_count": 7,
      "outputs": []
    },
    {
      "cell_type": "code",
      "metadata": {
        "id": "pSJC-LWl8v82"
      },
      "source": [
        ""
      ],
      "execution_count": 7,
      "outputs": []
    }
  ]
}